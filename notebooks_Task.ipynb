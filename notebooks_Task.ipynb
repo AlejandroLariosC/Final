{
  "metadata": {
    "language_info": {
      "codemirror_mode": {
        "name": "python",
        "version": 3
      },
      "file_extension": ".py",
      "mimetype": "text/x-python",
      "name": "python",
      "nbconvert_exporter": "python",
      "pygments_lexer": "ipython3",
      "version": "3.8"
    },
    "kernelspec": {
      "name": "python",
      "display_name": "Python (Pyodide)",
      "language": "python"
    },
    "toc-autonumbering": false,
    "toc-showcode": false,
    "toc-showtags": false
  },
  "nbformat_minor": 4,
  "nbformat": 4,
  "cells": [
    {
      "cell_type": "markdown",
      "source": "# My Jupiter Notebook on IBM Watson Studio\n",
      "metadata": {
        "slideshow": {
          "slide_type": "notes"
        },
        "tags": []
      }
    },
    {
      "cell_type": "markdown",
      "source": "#\n**Alejandro Larios**\n\nControl Room Operator",
      "metadata": {
        "jp-MarkdownHeadingCollapsed": true,
        "tags": []
      }
    },
    {
      "cell_type": "markdown",
      "source": "# \n*I'am interested in Data Analysis because if i want to change of job it will be a plus*",
      "metadata": {
        "slideshow": {
          "slide_type": "slide"
        },
        "tags": []
      }
    },
    {
      "cell_type": "markdown",
      "source": "# \nMy code it is a algebraic sum between two variables",
      "metadata": {}
    },
    {
      "cell_type": "code",
      "source": "A = 6\nB = 5\nC = A + B\nprint (C)",
      "metadata": {
        "trusted": true
      },
      "execution_count": 1,
      "outputs": [
        {
          "name": "stdout",
          "text": "11\n",
          "output_type": "stream"
        }
      ]
    },
    {
      "cell_type": "markdown",
      "source": "|Day|Month|Year|\n|----|----|----|\n|25|July|1993|\n|05|November|1994|",
      "metadata": {}
    }
  ]
}